{
 "cells": [
  {
   "cell_type": "code",
   "execution_count": 1,
   "id": "84e6e22d",
   "metadata": {},
   "outputs": [
    {
     "name": "stderr",
     "output_type": "stream",
     "text": [
      "/home/katwre/miniconda3/envs/fl-course-env/lib/python3.11/site-packages/tqdm/auto.py:21: TqdmWarning: IProgress not found. Please update jupyter and ipywidgets. See https://ipywidgets.readthedocs.io/en/stable/user_install.html\n",
      "  from .autonotebook import tqdm as notebook_tqdm\n"
     ]
    }
   ],
   "source": [
    "import os\n",
    "import scanpy as sc\n",
    "import scvi\n",
    "import json\n",
    "from sklearn.model_selection import train_test_split\n",
    "import numpy as np"
   ]
  },
  {
   "cell_type": "code",
   "execution_count": 2,
   "id": "385fec82",
   "metadata": {},
   "outputs": [
    {
     "name": "stderr",
     "output_type": "stream",
     "text": [
      "100%|██████████| 301M/301M [00:21<00:00, 14.5MB/s] \n"
     ]
    },
    {
     "name": "stdout",
     "output_type": "stream",
     "text": [
      "Train: 9362 cells | Valid: 2341 cells | Test: 4679 cells\n",
      "\n",
      "Cells per technology:\n",
      "\n",
      "Train split:\n",
      "  celseq: 803\n",
      "  fluidigmc1: 510\n",
      "  inDrop1: 1550\n",
      "  inDrop2: 1379\n",
      "  inDrop3: 2884\n",
      "  inDrop4: 1042\n",
      "  smarter: 1194\n",
      "\n",
      "Valid split:\n",
      "  celseq: 201\n",
      "  fluidigmc1: 128\n",
      "  inDrop1: 387\n",
      "  inDrop2: 345\n",
      "  inDrop3: 721\n",
      "  inDrop4: 261\n",
      "  smarter: 298\n",
      "\n",
      "Test split:\n",
      "  celseq2: 2285\n",
      "  smartseq2: 2394\n",
      "Deleted 'data_input/pancreas_full.h5ad'\n"
     ]
    }
   ],
   "source": [
    "\n",
    "# Define data paths\n",
    "data_dir = \"data_input\"\n",
    "os.makedirs(data_dir, exist_ok=True)\n",
    "\n",
    "pancreas_adata_path = os.path.join(data_dir, \"pancreas_full.h5ad\")\n",
    "train_path = os.path.join(data_dir, \"pancreas_train.h5ad\")\n",
    "valid_path = os.path.join(data_dir, \"pancreas_valid.h5ad\")\n",
    "test_path  = os.path.join(data_dir, \"pancreas_test.h5ad\")\n",
    "\n",
    "# Download if missing, otherwise load from local file\n",
    "pancreas_adata = sc.read(\n",
    "    pancreas_adata_path,\n",
    "    backup_url=\"https://figshare.com/ndownloader/files/24539828\",\n",
    ")\n",
    "\n",
    "# Split dataset by technology: keep smartseq2/celseq2 as held-out test\n",
    "query_mask = pancreas_adata.obs[\"tech\"].isin([\"smartseq2\", \"celseq2\"]).to_numpy()\n",
    "pancreas_no_test = pancreas_adata[~query_mask].copy()\n",
    "pancreas_test    = pancreas_adata[ query_mask].copy()\n",
    "\n",
    "# 80/20 train/valid split on the remaining data, stratified by technology\n",
    "y = pancreas_no_test.obs[\"tech\"].astype(\"category\")\n",
    "indices = np.arange(pancreas_no_test.n_obs)\n",
    "\n",
    "idx_train, idx_valid = train_test_split(\n",
    "    indices,\n",
    "    test_size=0.20,\n",
    "    train_size=0.80,\n",
    "    random_state=42,\n",
    "    shuffle=True,\n",
    "    stratify=y  # stratify by technology\n",
    ")\n",
    "\n",
    "pancreas_train = pancreas_no_test[idx_train].copy()\n",
    "pancreas_valid = pancreas_no_test[idx_valid].copy()\n",
    "\n",
    "# Save splits\n",
    "pancreas_train.write(train_path)\n",
    "pancreas_valid.write(valid_path)\n",
    "pancreas_test.write(test_path)\n",
    "\n",
    "print(\n",
    "    f\"Train: {pancreas_train.n_obs} cells | \"\n",
    "    f\"Valid: {pancreas_valid.n_obs} cells | \"\n",
    "    f\"Test: {pancreas_test.n_obs} cells\"\n",
    ")\n",
    "\n",
    "# Print counts per technology\n",
    "print(\"\\nCells per technology:\")\n",
    "for name, ad in [(\"Train\", pancreas_train),\n",
    "                 (\"Valid\", pancreas_valid),\n",
    "                 (\"Test\", pancreas_test)]:\n",
    "    counts = ad.obs[\"tech\"].value_counts().sort_index()\n",
    "    print(f\"\\n{name} split:\")\n",
    "    for tech, n in counts.items():\n",
    "        print(f\"  {tech}: {n}\")\n",
    "\n",
    "# --- Cleanup: delete the original full dataset file ---\n",
    "del pancreas_adata  # drop reference to ensure no open handle\n",
    "try:\n",
    "    if os.path.exists(pancreas_adata_path):\n",
    "        os.remove(pancreas_adata_path)\n",
    "        print(f\"Deleted '{pancreas_adata_path}'\")\n",
    "except Exception as e:\n",
    "    print(f\"[WARN] Could not delete '{pancreas_adata_path}': {e}\")"
   ]
  },
  {
   "cell_type": "code",
   "execution_count": null,
   "id": "5311c887",
   "metadata": {},
   "outputs": [
    {
     "name": "stdout",
     "output_type": "stream",
     "text": [
      "pancreas_train\n",
      "AnnData object with n_obs × n_vars = 9362 × 2000\n",
      "    obs: 'tech', 'celltype', 'size_factors'\n",
      "    layers: 'counts'\n"
     ]
    }
   ],
   "source": [
    "# Utility to load HVG list\n",
    "def load_hvg_list(hvg_list_path):\n",
    "    with open(hvg_list_path) as f:\n",
    "        return json.load(f)\n",
    "\n",
    "hvg_list = load_hvg_list(\"data_input/hvg_list.json\")\n",
    "\n",
    "# Restrict to HVG genes\n",
    "pancreas_train = pancreas_train[:, hvg_list].copy()\n",
    "\n",
    "\n"
   ]
  },
  {
   "cell_type": "code",
   "execution_count": 17,
   "id": "c9210c2f",
   "metadata": {},
   "outputs": [
    {
     "name": "stdout",
     "output_type": "stream",
     "text": [
      "pancreas_train\n",
      "[[0.         0.         0.         ... 0.         0.86844474 0.        ]\n",
      " [0.         0.         0.         ... 0.         0.         0.        ]\n",
      " [0.         0.         0.         ... 0.         0.         0.        ]\n",
      " ...\n",
      " [0.         0.         0.         ... 0.         0.         0.        ]\n",
      " [0.         0.         0.         ... 0.         0.         0.        ]\n",
      " [0.         0.         0.         ... 0.         0.         0.        ]]\n",
      "(9362, 2000)\n",
      "\n",
      " pancreas_train obs\n",
      "                                   tech celltype  size_factors  _scvi_batch  \\\n",
      "3rd-C86_S85                  fluidigmc1    delta      5.060723            1   \n",
      "human3_lib4.final_cell_0804     inDrop3    alpha      0.010361            4   \n",
      "human3_lib4.final_cell_0815     inDrop3     beta      0.011553            4   \n",
      "Sample_163                      smarter     beta      1.000000            6   \n",
      "human3_lib1.final_cell_0737     inDrop3    alpha      0.014493            4   \n",
      "\n",
      "                             _scvi_labels  \n",
      "3rd-C86_S85                             0  \n",
      "human3_lib4.final_cell_0804             0  \n",
      "human3_lib4.final_cell_0815             0  \n",
      "Sample_163                              0  \n",
      "human3_lib1.final_cell_0737             0  \n",
      "(9362, 5)\n",
      "\n",
      " pancreas_train.obs.columns\n",
      "Index(['tech', 'celltype', 'size_factors', '_scvi_batch', '_scvi_labels'], dtype='object')\n",
      "\n",
      "pancreas_train.var.head()\n",
      "Empty DataFrame\n",
      "Columns: []\n",
      "Index: [A2M, AADAC, ABCB11, ABCC3, ABCC8]\n"
     ]
    }
   ],
   "source": [
    "print(\"pancreas_train\")\n",
    "print(pancreas_train.X)\n",
    "print(pancreas_train.X.shape)\n",
    "\n",
    "print(\"\\n pancreas_train obs\")\n",
    "print(pancreas_train.obs.head())\n",
    "print(pancreas_train.obs.shape)\n",
    "\n",
    "\n",
    "print(\"\\n pancreas_train.obs.columns\")\n",
    "print(pancreas_train.obs.columns)\n",
    "\n",
    "print(\"\\npancreas_train.var.head()\")\n",
    "print(pancreas_train.var.head())"
   ]
  },
  {
   "cell_type": "markdown",
   "id": "6d35f6d4",
   "metadata": {},
   "source": [
    "## Train of scVI model\n"
   ]
  },
  {
   "cell_type": "code",
   "execution_count": 7,
   "id": "a14cd67c",
   "metadata": {},
   "outputs": [
    {
     "name": "stderr",
     "output_type": "stream",
     "text": [
      "/home/katwre/miniconda3/envs/fl-course-env/lib/python3.11/site-packages/scvi/data/fields/_base_field.py:63: UserWarning: adata.layers[counts] does not contain unnormalized count data. Are you sure this is what you want?\n",
      "  self.validate_field(adata)\n",
      "GPU available: False, used: False\n",
      "TPU available: False, using: 0 TPU cores\n",
      "HPU available: False, using: 0 HPUs\n",
      "/home/katwre/miniconda3/envs/fl-course-env/lib/python3.11/site-packages/lightning/pytorch/trainer/connectors/data_connector.py:433: The 'train_dataloader' does not have many workers which may be a bottleneck. Consider increasing the value of the `num_workers` argument` to `num_workers=7` in the `DataLoader` to improve performance.\n"
     ]
    },
    {
     "name": "stdout",
     "output_type": "stream",
     "text": [
      "Epoch 1/50:   0%|          | 0/50 [00:00<?, ?it/s]"
     ]
    },
    {
     "name": "stderr",
     "output_type": "stream",
     "text": [
      "/home/katwre/miniconda3/envs/fl-course-env/lib/python3.11/site-packages/scvi/module/_vae.py:573: UserWarning: The value argument must be within the support of the distribution\n",
      "  reconst_loss = -generative_outputs[MODULE_KEYS.PX_KEY].log_prob(x).sum(-1)\n",
      "/home/katwre/miniconda3/envs/fl-course-env/lib/python3.11/site-packages/scvi/module/_vae.py:573: UserWarning: The value argument must be within the support of the distribution\n",
      "  reconst_loss = -generative_outputs[MODULE_KEYS.PX_KEY].log_prob(x).sum(-1)\n"
     ]
    },
    {
     "name": "stdout",
     "output_type": "stream",
     "text": [
      "Epoch 2/50:   2%|▏         | 1/50 [00:02<01:57,  2.40s/it, v_num=1, train_loss_step=962, train_loss_epoch=1.31e+3]"
     ]
    },
    {
     "name": "stderr",
     "output_type": "stream",
     "text": [
      "/home/katwre/miniconda3/envs/fl-course-env/lib/python3.11/site-packages/scvi/module/_vae.py:573: UserWarning: The value argument must be within the support of the distribution\n",
      "  reconst_loss = -generative_outputs[MODULE_KEYS.PX_KEY].log_prob(x).sum(-1)\n",
      "/home/katwre/miniconda3/envs/fl-course-env/lib/python3.11/site-packages/scvi/module/_vae.py:573: UserWarning: The value argument must be within the support of the distribution\n",
      "  reconst_loss = -generative_outputs[MODULE_KEYS.PX_KEY].log_prob(x).sum(-1)\n"
     ]
    },
    {
     "name": "stdout",
     "output_type": "stream",
     "text": [
      "Epoch 3/50:   4%|▍         | 2/50 [00:04<01:47,  2.24s/it, v_num=1, train_loss_step=1.08e+3, train_loss_epoch=1.05e+3]"
     ]
    },
    {
     "name": "stderr",
     "output_type": "stream",
     "text": [
      "/home/katwre/miniconda3/envs/fl-course-env/lib/python3.11/site-packages/scvi/module/_vae.py:573: UserWarning: The value argument must be within the support of the distribution\n",
      "  reconst_loss = -generative_outputs[MODULE_KEYS.PX_KEY].log_prob(x).sum(-1)\n",
      "/home/katwre/miniconda3/envs/fl-course-env/lib/python3.11/site-packages/scvi/module/_vae.py:573: UserWarning: The value argument must be within the support of the distribution\n",
      "  reconst_loss = -generative_outputs[MODULE_KEYS.PX_KEY].log_prob(x).sum(-1)\n"
     ]
    },
    {
     "name": "stdout",
     "output_type": "stream",
     "text": [
      "Epoch 4/50:   6%|▌         | 3/50 [00:06<01:43,  2.20s/it, v_num=1, train_loss_step=977, train_loss_epoch=971]        "
     ]
    },
    {
     "name": "stderr",
     "output_type": "stream",
     "text": [
      "/home/katwre/miniconda3/envs/fl-course-env/lib/python3.11/site-packages/scvi/module/_vae.py:573: UserWarning: The value argument must be within the support of the distribution\n",
      "  reconst_loss = -generative_outputs[MODULE_KEYS.PX_KEY].log_prob(x).sum(-1)\n",
      "/home/katwre/miniconda3/envs/fl-course-env/lib/python3.11/site-packages/scvi/module/_vae.py:573: UserWarning: The value argument must be within the support of the distribution\n",
      "  reconst_loss = -generative_outputs[MODULE_KEYS.PX_KEY].log_prob(x).sum(-1)\n"
     ]
    },
    {
     "name": "stdout",
     "output_type": "stream",
     "text": [
      "Epoch 5/50:   8%|▊         | 4/50 [00:08<01:41,  2.20s/it, v_num=1, train_loss_step=853, train_loss_epoch=932]"
     ]
    },
    {
     "name": "stderr",
     "output_type": "stream",
     "text": [
      "/home/katwre/miniconda3/envs/fl-course-env/lib/python3.11/site-packages/scvi/module/_vae.py:573: UserWarning: The value argument must be within the support of the distribution\n",
      "  reconst_loss = -generative_outputs[MODULE_KEYS.PX_KEY].log_prob(x).sum(-1)\n",
      "/home/katwre/miniconda3/envs/fl-course-env/lib/python3.11/site-packages/scvi/module/_vae.py:573: UserWarning: The value argument must be within the support of the distribution\n",
      "  reconst_loss = -generative_outputs[MODULE_KEYS.PX_KEY].log_prob(x).sum(-1)\n"
     ]
    },
    {
     "name": "stdout",
     "output_type": "stream",
     "text": [
      "Epoch 6/50:  10%|█         | 5/50 [00:11<01:42,  2.28s/it, v_num=1, train_loss_step=973, train_loss_epoch=911]"
     ]
    },
    {
     "name": "stderr",
     "output_type": "stream",
     "text": [
      "/home/katwre/miniconda3/envs/fl-course-env/lib/python3.11/site-packages/scvi/module/_vae.py:573: UserWarning: The value argument must be within the support of the distribution\n",
      "  reconst_loss = -generative_outputs[MODULE_KEYS.PX_KEY].log_prob(x).sum(-1)\n",
      "/home/katwre/miniconda3/envs/fl-course-env/lib/python3.11/site-packages/scvi/module/_vae.py:573: UserWarning: The value argument must be within the support of the distribution\n",
      "  reconst_loss = -generative_outputs[MODULE_KEYS.PX_KEY].log_prob(x).sum(-1)\n"
     ]
    },
    {
     "name": "stdout",
     "output_type": "stream",
     "text": [
      "Epoch 7/50:  12%|█▏        | 6/50 [00:13<01:41,  2.30s/it, v_num=1, train_loss_step=856, train_loss_epoch=896]"
     ]
    },
    {
     "name": "stderr",
     "output_type": "stream",
     "text": [
      "/home/katwre/miniconda3/envs/fl-course-env/lib/python3.11/site-packages/scvi/module/_vae.py:573: UserWarning: The value argument must be within the support of the distribution\n",
      "  reconst_loss = -generative_outputs[MODULE_KEYS.PX_KEY].log_prob(x).sum(-1)\n",
      "/home/katwre/miniconda3/envs/fl-course-env/lib/python3.11/site-packages/scvi/module/_vae.py:573: UserWarning: The value argument must be within the support of the distribution\n",
      "  reconst_loss = -generative_outputs[MODULE_KEYS.PX_KEY].log_prob(x).sum(-1)\n"
     ]
    },
    {
     "name": "stdout",
     "output_type": "stream",
     "text": [
      "Epoch 8/50:  14%|█▍        | 7/50 [00:16<01:42,  2.38s/it, v_num=1, train_loss_step=944, train_loss_epoch=886]"
     ]
    },
    {
     "name": "stderr",
     "output_type": "stream",
     "text": [
      "/home/katwre/miniconda3/envs/fl-course-env/lib/python3.11/site-packages/scvi/module/_vae.py:573: UserWarning: The value argument must be within the support of the distribution\n",
      "  reconst_loss = -generative_outputs[MODULE_KEYS.PX_KEY].log_prob(x).sum(-1)\n",
      "/home/katwre/miniconda3/envs/fl-course-env/lib/python3.11/site-packages/scvi/module/_vae.py:573: UserWarning: The value argument must be within the support of the distribution\n",
      "  reconst_loss = -generative_outputs[MODULE_KEYS.PX_KEY].log_prob(x).sum(-1)\n"
     ]
    },
    {
     "name": "stdout",
     "output_type": "stream",
     "text": [
      "Epoch 9/50:  16%|█▌        | 8/50 [00:18<01:45,  2.52s/it, v_num=1, train_loss_step=857, train_loss_epoch=877]"
     ]
    },
    {
     "name": "stderr",
     "output_type": "stream",
     "text": [
      "/home/katwre/miniconda3/envs/fl-course-env/lib/python3.11/site-packages/scvi/module/_vae.py:573: UserWarning: The value argument must be within the support of the distribution\n",
      "  reconst_loss = -generative_outputs[MODULE_KEYS.PX_KEY].log_prob(x).sum(-1)\n",
      "/home/katwre/miniconda3/envs/fl-course-env/lib/python3.11/site-packages/scvi/module/_vae.py:573: UserWarning: The value argument must be within the support of the distribution\n",
      "  reconst_loss = -generative_outputs[MODULE_KEYS.PX_KEY].log_prob(x).sum(-1)\n"
     ]
    },
    {
     "name": "stdout",
     "output_type": "stream",
     "text": [
      "Epoch 10/50:  18%|█▊        | 9/50 [00:21<01:45,  2.57s/it, v_num=1, train_loss_step=945, train_loss_epoch=871]"
     ]
    },
    {
     "name": "stderr",
     "output_type": "stream",
     "text": [
      "/home/katwre/miniconda3/envs/fl-course-env/lib/python3.11/site-packages/scvi/module/_vae.py:573: UserWarning: The value argument must be within the support of the distribution\n",
      "  reconst_loss = -generative_outputs[MODULE_KEYS.PX_KEY].log_prob(x).sum(-1)\n",
      "/home/katwre/miniconda3/envs/fl-course-env/lib/python3.11/site-packages/scvi/module/_vae.py:573: UserWarning: The value argument must be within the support of the distribution\n",
      "  reconst_loss = -generative_outputs[MODULE_KEYS.PX_KEY].log_prob(x).sum(-1)\n"
     ]
    },
    {
     "name": "stdout",
     "output_type": "stream",
     "text": [
      "Epoch 11/50:  20%|██        | 10/50 [00:24<01:40,  2.50s/it, v_num=1, train_loss_step=993, train_loss_epoch=866]"
     ]
    },
    {
     "name": "stderr",
     "output_type": "stream",
     "text": [
      "/home/katwre/miniconda3/envs/fl-course-env/lib/python3.11/site-packages/scvi/module/_vae.py:573: UserWarning: The value argument must be within the support of the distribution\n",
      "  reconst_loss = -generative_outputs[MODULE_KEYS.PX_KEY].log_prob(x).sum(-1)\n",
      "/home/katwre/miniconda3/envs/fl-course-env/lib/python3.11/site-packages/scvi/module/_vae.py:573: UserWarning: The value argument must be within the support of the distribution\n",
      "  reconst_loss = -generative_outputs[MODULE_KEYS.PX_KEY].log_prob(x).sum(-1)\n"
     ]
    },
    {
     "name": "stdout",
     "output_type": "stream",
     "text": [
      "Epoch 12/50:  22%|██▏       | 11/50 [00:26<01:38,  2.53s/it, v_num=1, train_loss_step=886, train_loss_epoch=862]"
     ]
    },
    {
     "name": "stderr",
     "output_type": "stream",
     "text": [
      "/home/katwre/miniconda3/envs/fl-course-env/lib/python3.11/site-packages/scvi/module/_vae.py:573: UserWarning: The value argument must be within the support of the distribution\n",
      "  reconst_loss = -generative_outputs[MODULE_KEYS.PX_KEY].log_prob(x).sum(-1)\n",
      "/home/katwre/miniconda3/envs/fl-course-env/lib/python3.11/site-packages/scvi/module/_vae.py:573: UserWarning: The value argument must be within the support of the distribution\n",
      "  reconst_loss = -generative_outputs[MODULE_KEYS.PX_KEY].log_prob(x).sum(-1)\n"
     ]
    },
    {
     "name": "stdout",
     "output_type": "stream",
     "text": [
      "Epoch 13/50:  24%|██▍       | 12/50 [00:29<01:37,  2.56s/it, v_num=1, train_loss_step=926, train_loss_epoch=857]"
     ]
    },
    {
     "name": "stderr",
     "output_type": "stream",
     "text": [
      "/home/katwre/miniconda3/envs/fl-course-env/lib/python3.11/site-packages/scvi/module/_vae.py:573: UserWarning: The value argument must be within the support of the distribution\n",
      "  reconst_loss = -generative_outputs[MODULE_KEYS.PX_KEY].log_prob(x).sum(-1)\n",
      "/home/katwre/miniconda3/envs/fl-course-env/lib/python3.11/site-packages/scvi/module/_vae.py:573: UserWarning: The value argument must be within the support of the distribution\n",
      "  reconst_loss = -generative_outputs[MODULE_KEYS.PX_KEY].log_prob(x).sum(-1)\n"
     ]
    },
    {
     "name": "stdout",
     "output_type": "stream",
     "text": [
      "Epoch 14/50:  26%|██▌       | 13/50 [00:31<01:34,  2.54s/it, v_num=1, train_loss_step=804, train_loss_epoch=854]"
     ]
    },
    {
     "name": "stderr",
     "output_type": "stream",
     "text": [
      "/home/katwre/miniconda3/envs/fl-course-env/lib/python3.11/site-packages/scvi/module/_vae.py:573: UserWarning: The value argument must be within the support of the distribution\n",
      "  reconst_loss = -generative_outputs[MODULE_KEYS.PX_KEY].log_prob(x).sum(-1)\n",
      "/home/katwre/miniconda3/envs/fl-course-env/lib/python3.11/site-packages/scvi/module/_vae.py:573: UserWarning: The value argument must be within the support of the distribution\n",
      "  reconst_loss = -generative_outputs[MODULE_KEYS.PX_KEY].log_prob(x).sum(-1)\n"
     ]
    },
    {
     "name": "stdout",
     "output_type": "stream",
     "text": [
      "Epoch 15/50:  28%|██▊       | 14/50 [00:34<01:28,  2.47s/it, v_num=1, train_loss_step=893, train_loss_epoch=851]"
     ]
    },
    {
     "name": "stderr",
     "output_type": "stream",
     "text": [
      "/home/katwre/miniconda3/envs/fl-course-env/lib/python3.11/site-packages/scvi/module/_vae.py:573: UserWarning: The value argument must be within the support of the distribution\n",
      "  reconst_loss = -generative_outputs[MODULE_KEYS.PX_KEY].log_prob(x).sum(-1)\n",
      "/home/katwre/miniconda3/envs/fl-course-env/lib/python3.11/site-packages/scvi/module/_vae.py:573: UserWarning: The value argument must be within the support of the distribution\n",
      "  reconst_loss = -generative_outputs[MODULE_KEYS.PX_KEY].log_prob(x).sum(-1)\n"
     ]
    },
    {
     "name": "stdout",
     "output_type": "stream",
     "text": [
      "Epoch 16/50:  30%|███       | 15/50 [00:36<01:25,  2.44s/it, v_num=1, train_loss_step=845, train_loss_epoch=848]"
     ]
    },
    {
     "name": "stderr",
     "output_type": "stream",
     "text": [
      "/home/katwre/miniconda3/envs/fl-course-env/lib/python3.11/site-packages/scvi/module/_vae.py:573: UserWarning: The value argument must be within the support of the distribution\n",
      "  reconst_loss = -generative_outputs[MODULE_KEYS.PX_KEY].log_prob(x).sum(-1)\n",
      "/home/katwre/miniconda3/envs/fl-course-env/lib/python3.11/site-packages/scvi/module/_vae.py:573: UserWarning: The value argument must be within the support of the distribution\n",
      "  reconst_loss = -generative_outputs[MODULE_KEYS.PX_KEY].log_prob(x).sum(-1)\n"
     ]
    },
    {
     "name": "stdout",
     "output_type": "stream",
     "text": [
      "Epoch 17/50:  32%|███▏      | 16/50 [00:38<01:20,  2.38s/it, v_num=1, train_loss_step=792, train_loss_epoch=845]"
     ]
    },
    {
     "name": "stderr",
     "output_type": "stream",
     "text": [
      "/home/katwre/miniconda3/envs/fl-course-env/lib/python3.11/site-packages/scvi/module/_vae.py:573: UserWarning: The value argument must be within the support of the distribution\n",
      "  reconst_loss = -generative_outputs[MODULE_KEYS.PX_KEY].log_prob(x).sum(-1)\n",
      "/home/katwre/miniconda3/envs/fl-course-env/lib/python3.11/site-packages/scvi/module/_vae.py:573: UserWarning: The value argument must be within the support of the distribution\n",
      "  reconst_loss = -generative_outputs[MODULE_KEYS.PX_KEY].log_prob(x).sum(-1)\n"
     ]
    },
    {
     "name": "stdout",
     "output_type": "stream",
     "text": [
      "Epoch 18/50:  34%|███▍      | 17/50 [00:41<01:18,  2.39s/it, v_num=1, train_loss_step=757, train_loss_epoch=842]"
     ]
    },
    {
     "name": "stderr",
     "output_type": "stream",
     "text": [
      "/home/katwre/miniconda3/envs/fl-course-env/lib/python3.11/site-packages/scvi/module/_vae.py:573: UserWarning: The value argument must be within the support of the distribution\n",
      "  reconst_loss = -generative_outputs[MODULE_KEYS.PX_KEY].log_prob(x).sum(-1)\n",
      "/home/katwre/miniconda3/envs/fl-course-env/lib/python3.11/site-packages/scvi/module/_vae.py:573: UserWarning: The value argument must be within the support of the distribution\n",
      "  reconst_loss = -generative_outputs[MODULE_KEYS.PX_KEY].log_prob(x).sum(-1)\n"
     ]
    },
    {
     "name": "stdout",
     "output_type": "stream",
     "text": [
      "Epoch 19/50:  36%|███▌      | 18/50 [00:43<01:16,  2.40s/it, v_num=1, train_loss_step=818, train_loss_epoch=840]"
     ]
    },
    {
     "name": "stderr",
     "output_type": "stream",
     "text": [
      "/home/katwre/miniconda3/envs/fl-course-env/lib/python3.11/site-packages/scvi/module/_vae.py:573: UserWarning: The value argument must be within the support of the distribution\n",
      "  reconst_loss = -generative_outputs[MODULE_KEYS.PX_KEY].log_prob(x).sum(-1)\n",
      "/home/katwre/miniconda3/envs/fl-course-env/lib/python3.11/site-packages/scvi/module/_vae.py:573: UserWarning: The value argument must be within the support of the distribution\n",
      "  reconst_loss = -generative_outputs[MODULE_KEYS.PX_KEY].log_prob(x).sum(-1)\n"
     ]
    },
    {
     "name": "stdout",
     "output_type": "stream",
     "text": [
      "Epoch 20/50:  38%|███▊      | 19/50 [00:45<01:14,  2.39s/it, v_num=1, train_loss_step=857, train_loss_epoch=837]"
     ]
    },
    {
     "name": "stderr",
     "output_type": "stream",
     "text": [
      "/home/katwre/miniconda3/envs/fl-course-env/lib/python3.11/site-packages/scvi/module/_vae.py:573: UserWarning: The value argument must be within the support of the distribution\n",
      "  reconst_loss = -generative_outputs[MODULE_KEYS.PX_KEY].log_prob(x).sum(-1)\n",
      "/home/katwre/miniconda3/envs/fl-course-env/lib/python3.11/site-packages/scvi/module/_vae.py:573: UserWarning: The value argument must be within the support of the distribution\n",
      "  reconst_loss = -generative_outputs[MODULE_KEYS.PX_KEY].log_prob(x).sum(-1)\n"
     ]
    },
    {
     "name": "stdout",
     "output_type": "stream",
     "text": [
      "Epoch 21/50:  40%|████      | 20/50 [00:48<01:11,  2.39s/it, v_num=1, train_loss_step=777, train_loss_epoch=835]"
     ]
    },
    {
     "name": "stderr",
     "output_type": "stream",
     "text": [
      "/home/katwre/miniconda3/envs/fl-course-env/lib/python3.11/site-packages/scvi/module/_vae.py:573: UserWarning: The value argument must be within the support of the distribution\n",
      "  reconst_loss = -generative_outputs[MODULE_KEYS.PX_KEY].log_prob(x).sum(-1)\n",
      "/home/katwre/miniconda3/envs/fl-course-env/lib/python3.11/site-packages/scvi/module/_vae.py:573: UserWarning: The value argument must be within the support of the distribution\n",
      "  reconst_loss = -generative_outputs[MODULE_KEYS.PX_KEY].log_prob(x).sum(-1)\n"
     ]
    },
    {
     "name": "stdout",
     "output_type": "stream",
     "text": [
      "Epoch 22/50:  42%|████▏     | 21/50 [00:50<01:09,  2.40s/it, v_num=1, train_loss_step=826, train_loss_epoch=833]"
     ]
    },
    {
     "name": "stderr",
     "output_type": "stream",
     "text": [
      "/home/katwre/miniconda3/envs/fl-course-env/lib/python3.11/site-packages/scvi/module/_vae.py:573: UserWarning: The value argument must be within the support of the distribution\n",
      "  reconst_loss = -generative_outputs[MODULE_KEYS.PX_KEY].log_prob(x).sum(-1)\n",
      "/home/katwre/miniconda3/envs/fl-course-env/lib/python3.11/site-packages/scvi/module/_vae.py:573: UserWarning: The value argument must be within the support of the distribution\n",
      "  reconst_loss = -generative_outputs[MODULE_KEYS.PX_KEY].log_prob(x).sum(-1)\n"
     ]
    },
    {
     "name": "stdout",
     "output_type": "stream",
     "text": [
      "Epoch 23/50:  44%|████▍     | 22/50 [00:53<01:07,  2.42s/it, v_num=1, train_loss_step=928, train_loss_epoch=831]"
     ]
    },
    {
     "name": "stderr",
     "output_type": "stream",
     "text": [
      "/home/katwre/miniconda3/envs/fl-course-env/lib/python3.11/site-packages/scvi/module/_vae.py:573: UserWarning: The value argument must be within the support of the distribution\n",
      "  reconst_loss = -generative_outputs[MODULE_KEYS.PX_KEY].log_prob(x).sum(-1)\n",
      "/home/katwre/miniconda3/envs/fl-course-env/lib/python3.11/site-packages/scvi/module/_vae.py:573: UserWarning: The value argument must be within the support of the distribution\n",
      "  reconst_loss = -generative_outputs[MODULE_KEYS.PX_KEY].log_prob(x).sum(-1)\n"
     ]
    },
    {
     "name": "stdout",
     "output_type": "stream",
     "text": [
      "Epoch 24/50:  46%|████▌     | 23/50 [00:55<01:06,  2.48s/it, v_num=1, train_loss_step=875, train_loss_epoch=829]"
     ]
    },
    {
     "name": "stderr",
     "output_type": "stream",
     "text": [
      "/home/katwre/miniconda3/envs/fl-course-env/lib/python3.11/site-packages/scvi/module/_vae.py:573: UserWarning: The value argument must be within the support of the distribution\n",
      "  reconst_loss = -generative_outputs[MODULE_KEYS.PX_KEY].log_prob(x).sum(-1)\n",
      "/home/katwre/miniconda3/envs/fl-course-env/lib/python3.11/site-packages/scvi/module/_vae.py:573: UserWarning: The value argument must be within the support of the distribution\n",
      "  reconst_loss = -generative_outputs[MODULE_KEYS.PX_KEY].log_prob(x).sum(-1)\n"
     ]
    },
    {
     "name": "stdout",
     "output_type": "stream",
     "text": [
      "Epoch 25/50:  48%|████▊     | 24/50 [00:58<01:08,  2.63s/it, v_num=1, train_loss_step=928, train_loss_epoch=827]"
     ]
    },
    {
     "name": "stderr",
     "output_type": "stream",
     "text": [
      "/home/katwre/miniconda3/envs/fl-course-env/lib/python3.11/site-packages/scvi/module/_vae.py:573: UserWarning: The value argument must be within the support of the distribution\n",
      "  reconst_loss = -generative_outputs[MODULE_KEYS.PX_KEY].log_prob(x).sum(-1)\n",
      "/home/katwre/miniconda3/envs/fl-course-env/lib/python3.11/site-packages/scvi/module/_vae.py:573: UserWarning: The value argument must be within the support of the distribution\n",
      "  reconst_loss = -generative_outputs[MODULE_KEYS.PX_KEY].log_prob(x).sum(-1)\n"
     ]
    },
    {
     "name": "stdout",
     "output_type": "stream",
     "text": [
      "Epoch 26/50:  50%|█████     | 25/50 [01:01<01:05,  2.60s/it, v_num=1, train_loss_step=792, train_loss_epoch=826]"
     ]
    },
    {
     "name": "stderr",
     "output_type": "stream",
     "text": [
      "/home/katwre/miniconda3/envs/fl-course-env/lib/python3.11/site-packages/scvi/module/_vae.py:573: UserWarning: The value argument must be within the support of the distribution\n",
      "  reconst_loss = -generative_outputs[MODULE_KEYS.PX_KEY].log_prob(x).sum(-1)\n",
      "/home/katwre/miniconda3/envs/fl-course-env/lib/python3.11/site-packages/scvi/module/_vae.py:573: UserWarning: The value argument must be within the support of the distribution\n",
      "  reconst_loss = -generative_outputs[MODULE_KEYS.PX_KEY].log_prob(x).sum(-1)\n"
     ]
    },
    {
     "name": "stdout",
     "output_type": "stream",
     "text": [
      "Epoch 27/50:  52%|█████▏    | 26/50 [01:03<01:02,  2.61s/it, v_num=1, train_loss_step=781, train_loss_epoch=824]"
     ]
    },
    {
     "name": "stderr",
     "output_type": "stream",
     "text": [
      "/home/katwre/miniconda3/envs/fl-course-env/lib/python3.11/site-packages/scvi/module/_vae.py:573: UserWarning: The value argument must be within the support of the distribution\n",
      "  reconst_loss = -generative_outputs[MODULE_KEYS.PX_KEY].log_prob(x).sum(-1)\n",
      "/home/katwre/miniconda3/envs/fl-course-env/lib/python3.11/site-packages/scvi/module/_vae.py:573: UserWarning: The value argument must be within the support of the distribution\n",
      "  reconst_loss = -generative_outputs[MODULE_KEYS.PX_KEY].log_prob(x).sum(-1)\n"
     ]
    },
    {
     "name": "stdout",
     "output_type": "stream",
     "text": [
      "Epoch 28/50:  54%|█████▍    | 27/50 [01:06<00:59,  2.58s/it, v_num=1, train_loss_step=759, train_loss_epoch=823]"
     ]
    },
    {
     "name": "stderr",
     "output_type": "stream",
     "text": [
      "/home/katwre/miniconda3/envs/fl-course-env/lib/python3.11/site-packages/scvi/module/_vae.py:573: UserWarning: The value argument must be within the support of the distribution\n",
      "  reconst_loss = -generative_outputs[MODULE_KEYS.PX_KEY].log_prob(x).sum(-1)\n",
      "/home/katwre/miniconda3/envs/fl-course-env/lib/python3.11/site-packages/scvi/module/_vae.py:573: UserWarning: The value argument must be within the support of the distribution\n",
      "  reconst_loss = -generative_outputs[MODULE_KEYS.PX_KEY].log_prob(x).sum(-1)\n"
     ]
    },
    {
     "name": "stdout",
     "output_type": "stream",
     "text": [
      "Epoch 29/50:  56%|█████▌    | 28/50 [01:08<00:55,  2.52s/it, v_num=1, train_loss_step=923, train_loss_epoch=821]"
     ]
    },
    {
     "name": "stderr",
     "output_type": "stream",
     "text": [
      "/home/katwre/miniconda3/envs/fl-course-env/lib/python3.11/site-packages/scvi/module/_vae.py:573: UserWarning: The value argument must be within the support of the distribution\n",
      "  reconst_loss = -generative_outputs[MODULE_KEYS.PX_KEY].log_prob(x).sum(-1)\n",
      "/home/katwre/miniconda3/envs/fl-course-env/lib/python3.11/site-packages/scvi/module/_vae.py:573: UserWarning: The value argument must be within the support of the distribution\n",
      "  reconst_loss = -generative_outputs[MODULE_KEYS.PX_KEY].log_prob(x).sum(-1)\n"
     ]
    },
    {
     "name": "stdout",
     "output_type": "stream",
     "text": [
      "Epoch 30/50:  58%|█████▊    | 29/50 [01:11<00:52,  2.49s/it, v_num=1, train_loss_step=749, train_loss_epoch=820]"
     ]
    },
    {
     "name": "stderr",
     "output_type": "stream",
     "text": [
      "/home/katwre/miniconda3/envs/fl-course-env/lib/python3.11/site-packages/scvi/module/_vae.py:573: UserWarning: The value argument must be within the support of the distribution\n",
      "  reconst_loss = -generative_outputs[MODULE_KEYS.PX_KEY].log_prob(x).sum(-1)\n",
      "/home/katwre/miniconda3/envs/fl-course-env/lib/python3.11/site-packages/scvi/module/_vae.py:573: UserWarning: The value argument must be within the support of the distribution\n",
      "  reconst_loss = -generative_outputs[MODULE_KEYS.PX_KEY].log_prob(x).sum(-1)\n"
     ]
    },
    {
     "name": "stdout",
     "output_type": "stream",
     "text": [
      "Epoch 31/50:  60%|██████    | 30/50 [01:13<00:49,  2.48s/it, v_num=1, train_loss_step=789, train_loss_epoch=818]"
     ]
    },
    {
     "name": "stderr",
     "output_type": "stream",
     "text": [
      "/home/katwre/miniconda3/envs/fl-course-env/lib/python3.11/site-packages/scvi/module/_vae.py:573: UserWarning: The value argument must be within the support of the distribution\n",
      "  reconst_loss = -generative_outputs[MODULE_KEYS.PX_KEY].log_prob(x).sum(-1)\n",
      "/home/katwre/miniconda3/envs/fl-course-env/lib/python3.11/site-packages/scvi/module/_vae.py:573: UserWarning: The value argument must be within the support of the distribution\n",
      "  reconst_loss = -generative_outputs[MODULE_KEYS.PX_KEY].log_prob(x).sum(-1)\n"
     ]
    },
    {
     "name": "stdout",
     "output_type": "stream",
     "text": [
      "Epoch 32/50:  62%|██████▏   | 31/50 [01:16<00:47,  2.48s/it, v_num=1, train_loss_step=870, train_loss_epoch=817]"
     ]
    },
    {
     "name": "stderr",
     "output_type": "stream",
     "text": [
      "/home/katwre/miniconda3/envs/fl-course-env/lib/python3.11/site-packages/scvi/module/_vae.py:573: UserWarning: The value argument must be within the support of the distribution\n",
      "  reconst_loss = -generative_outputs[MODULE_KEYS.PX_KEY].log_prob(x).sum(-1)\n",
      "/home/katwre/miniconda3/envs/fl-course-env/lib/python3.11/site-packages/scvi/module/_vae.py:573: UserWarning: The value argument must be within the support of the distribution\n",
      "  reconst_loss = -generative_outputs[MODULE_KEYS.PX_KEY].log_prob(x).sum(-1)\n"
     ]
    },
    {
     "name": "stdout",
     "output_type": "stream",
     "text": [
      "Epoch 33/50:  64%|██████▍   | 32/50 [01:18<00:44,  2.45s/it, v_num=1, train_loss_step=969, train_loss_epoch=816]"
     ]
    },
    {
     "name": "stderr",
     "output_type": "stream",
     "text": [
      "/home/katwre/miniconda3/envs/fl-course-env/lib/python3.11/site-packages/scvi/module/_vae.py:573: UserWarning: The value argument must be within the support of the distribution\n",
      "  reconst_loss = -generative_outputs[MODULE_KEYS.PX_KEY].log_prob(x).sum(-1)\n",
      "/home/katwre/miniconda3/envs/fl-course-env/lib/python3.11/site-packages/scvi/module/_vae.py:573: UserWarning: The value argument must be within the support of the distribution\n",
      "  reconst_loss = -generative_outputs[MODULE_KEYS.PX_KEY].log_prob(x).sum(-1)\n"
     ]
    },
    {
     "name": "stdout",
     "output_type": "stream",
     "text": [
      "Epoch 34/50:  66%|██████▌   | 33/50 [01:20<00:41,  2.42s/it, v_num=1, train_loss_step=810, train_loss_epoch=815]"
     ]
    },
    {
     "name": "stderr",
     "output_type": "stream",
     "text": [
      "/home/katwre/miniconda3/envs/fl-course-env/lib/python3.11/site-packages/scvi/module/_vae.py:573: UserWarning: The value argument must be within the support of the distribution\n",
      "  reconst_loss = -generative_outputs[MODULE_KEYS.PX_KEY].log_prob(x).sum(-1)\n",
      "/home/katwre/miniconda3/envs/fl-course-env/lib/python3.11/site-packages/scvi/module/_vae.py:573: UserWarning: The value argument must be within the support of the distribution\n",
      "  reconst_loss = -generative_outputs[MODULE_KEYS.PX_KEY].log_prob(x).sum(-1)\n"
     ]
    },
    {
     "name": "stdout",
     "output_type": "stream",
     "text": [
      "Epoch 35/50:  68%|██████▊   | 34/50 [01:23<00:39,  2.46s/it, v_num=1, train_loss_step=732, train_loss_epoch=814]"
     ]
    },
    {
     "name": "stderr",
     "output_type": "stream",
     "text": [
      "/home/katwre/miniconda3/envs/fl-course-env/lib/python3.11/site-packages/scvi/module/_vae.py:573: UserWarning: The value argument must be within the support of the distribution\n",
      "  reconst_loss = -generative_outputs[MODULE_KEYS.PX_KEY].log_prob(x).sum(-1)\n",
      "/home/katwre/miniconda3/envs/fl-course-env/lib/python3.11/site-packages/scvi/module/_vae.py:573: UserWarning: The value argument must be within the support of the distribution\n",
      "  reconst_loss = -generative_outputs[MODULE_KEYS.PX_KEY].log_prob(x).sum(-1)\n"
     ]
    },
    {
     "name": "stdout",
     "output_type": "stream",
     "text": [
      "Epoch 36/50:  70%|███████   | 35/50 [01:25<00:36,  2.46s/it, v_num=1, train_loss_step=742, train_loss_epoch=813]"
     ]
    },
    {
     "name": "stderr",
     "output_type": "stream",
     "text": [
      "/home/katwre/miniconda3/envs/fl-course-env/lib/python3.11/site-packages/scvi/module/_vae.py:573: UserWarning: The value argument must be within the support of the distribution\n",
      "  reconst_loss = -generative_outputs[MODULE_KEYS.PX_KEY].log_prob(x).sum(-1)\n",
      "/home/katwre/miniconda3/envs/fl-course-env/lib/python3.11/site-packages/scvi/module/_vae.py:573: UserWarning: The value argument must be within the support of the distribution\n",
      "  reconst_loss = -generative_outputs[MODULE_KEYS.PX_KEY].log_prob(x).sum(-1)\n"
     ]
    },
    {
     "name": "stdout",
     "output_type": "stream",
     "text": [
      "Epoch 37/50:  72%|███████▏  | 36/50 [01:28<00:34,  2.49s/it, v_num=1, train_loss_step=756, train_loss_epoch=812]"
     ]
    },
    {
     "name": "stderr",
     "output_type": "stream",
     "text": [
      "/home/katwre/miniconda3/envs/fl-course-env/lib/python3.11/site-packages/scvi/module/_vae.py:573: UserWarning: The value argument must be within the support of the distribution\n",
      "  reconst_loss = -generative_outputs[MODULE_KEYS.PX_KEY].log_prob(x).sum(-1)\n",
      "/home/katwre/miniconda3/envs/fl-course-env/lib/python3.11/site-packages/scvi/module/_vae.py:573: UserWarning: The value argument must be within the support of the distribution\n",
      "  reconst_loss = -generative_outputs[MODULE_KEYS.PX_KEY].log_prob(x).sum(-1)\n"
     ]
    },
    {
     "name": "stdout",
     "output_type": "stream",
     "text": [
      "Epoch 38/50:  74%|███████▍  | 37/50 [01:31<00:32,  2.51s/it, v_num=1, train_loss_step=902, train_loss_epoch=811]"
     ]
    },
    {
     "name": "stderr",
     "output_type": "stream",
     "text": [
      "/home/katwre/miniconda3/envs/fl-course-env/lib/python3.11/site-packages/scvi/module/_vae.py:573: UserWarning: The value argument must be within the support of the distribution\n",
      "  reconst_loss = -generative_outputs[MODULE_KEYS.PX_KEY].log_prob(x).sum(-1)\n",
      "/home/katwre/miniconda3/envs/fl-course-env/lib/python3.11/site-packages/scvi/module/_vae.py:573: UserWarning: The value argument must be within the support of the distribution\n",
      "  reconst_loss = -generative_outputs[MODULE_KEYS.PX_KEY].log_prob(x).sum(-1)\n"
     ]
    },
    {
     "name": "stdout",
     "output_type": "stream",
     "text": [
      "Epoch 39/50:  76%|███████▌  | 38/50 [01:33<00:30,  2.56s/it, v_num=1, train_loss_step=748, train_loss_epoch=810]"
     ]
    },
    {
     "name": "stderr",
     "output_type": "stream",
     "text": [
      "/home/katwre/miniconda3/envs/fl-course-env/lib/python3.11/site-packages/scvi/module/_vae.py:573: UserWarning: The value argument must be within the support of the distribution\n",
      "  reconst_loss = -generative_outputs[MODULE_KEYS.PX_KEY].log_prob(x).sum(-1)\n",
      "/home/katwre/miniconda3/envs/fl-course-env/lib/python3.11/site-packages/scvi/module/_vae.py:573: UserWarning: The value argument must be within the support of the distribution\n",
      "  reconst_loss = -generative_outputs[MODULE_KEYS.PX_KEY].log_prob(x).sum(-1)\n"
     ]
    },
    {
     "name": "stdout",
     "output_type": "stream",
     "text": [
      "Epoch 40/50:  78%|███████▊  | 39/50 [01:36<00:29,  2.64s/it, v_num=1, train_loss_step=827, train_loss_epoch=809]"
     ]
    },
    {
     "name": "stderr",
     "output_type": "stream",
     "text": [
      "/home/katwre/miniconda3/envs/fl-course-env/lib/python3.11/site-packages/scvi/module/_vae.py:573: UserWarning: The value argument must be within the support of the distribution\n",
      "  reconst_loss = -generative_outputs[MODULE_KEYS.PX_KEY].log_prob(x).sum(-1)\n",
      "/home/katwre/miniconda3/envs/fl-course-env/lib/python3.11/site-packages/scvi/module/_vae.py:573: UserWarning: The value argument must be within the support of the distribution\n",
      "  reconst_loss = -generative_outputs[MODULE_KEYS.PX_KEY].log_prob(x).sum(-1)\n"
     ]
    },
    {
     "name": "stdout",
     "output_type": "stream",
     "text": [
      "Epoch 41/50:  80%|████████  | 40/50 [01:39<00:26,  2.66s/it, v_num=1, train_loss_step=781, train_loss_epoch=809]"
     ]
    },
    {
     "name": "stderr",
     "output_type": "stream",
     "text": [
      "/home/katwre/miniconda3/envs/fl-course-env/lib/python3.11/site-packages/scvi/module/_vae.py:573: UserWarning: The value argument must be within the support of the distribution\n",
      "  reconst_loss = -generative_outputs[MODULE_KEYS.PX_KEY].log_prob(x).sum(-1)\n",
      "/home/katwre/miniconda3/envs/fl-course-env/lib/python3.11/site-packages/scvi/module/_vae.py:573: UserWarning: The value argument must be within the support of the distribution\n",
      "  reconst_loss = -generative_outputs[MODULE_KEYS.PX_KEY].log_prob(x).sum(-1)\n"
     ]
    },
    {
     "name": "stdout",
     "output_type": "stream",
     "text": [
      "Epoch 42/50:  82%|████████▏ | 41/50 [01:41<00:23,  2.64s/it, v_num=1, train_loss_step=751, train_loss_epoch=808]"
     ]
    },
    {
     "name": "stderr",
     "output_type": "stream",
     "text": [
      "/home/katwre/miniconda3/envs/fl-course-env/lib/python3.11/site-packages/scvi/module/_vae.py:573: UserWarning: The value argument must be within the support of the distribution\n",
      "  reconst_loss = -generative_outputs[MODULE_KEYS.PX_KEY].log_prob(x).sum(-1)\n",
      "/home/katwre/miniconda3/envs/fl-course-env/lib/python3.11/site-packages/scvi/module/_vae.py:573: UserWarning: The value argument must be within the support of the distribution\n",
      "  reconst_loss = -generative_outputs[MODULE_KEYS.PX_KEY].log_prob(x).sum(-1)\n"
     ]
    },
    {
     "name": "stdout",
     "output_type": "stream",
     "text": [
      "Epoch 43/50:  84%|████████▍ | 42/50 [01:44<00:21,  2.66s/it, v_num=1, train_loss_step=785, train_loss_epoch=807]"
     ]
    },
    {
     "name": "stderr",
     "output_type": "stream",
     "text": [
      "/home/katwre/miniconda3/envs/fl-course-env/lib/python3.11/site-packages/scvi/module/_vae.py:573: UserWarning: The value argument must be within the support of the distribution\n",
      "  reconst_loss = -generative_outputs[MODULE_KEYS.PX_KEY].log_prob(x).sum(-1)\n",
      "/home/katwre/miniconda3/envs/fl-course-env/lib/python3.11/site-packages/scvi/module/_vae.py:573: UserWarning: The value argument must be within the support of the distribution\n",
      "  reconst_loss = -generative_outputs[MODULE_KEYS.PX_KEY].log_prob(x).sum(-1)\n"
     ]
    },
    {
     "name": "stdout",
     "output_type": "stream",
     "text": [
      "Epoch 44/50:  86%|████████▌ | 43/50 [01:47<00:18,  2.65s/it, v_num=1, train_loss_step=735, train_loss_epoch=806]"
     ]
    },
    {
     "name": "stderr",
     "output_type": "stream",
     "text": [
      "/home/katwre/miniconda3/envs/fl-course-env/lib/python3.11/site-packages/scvi/module/_vae.py:573: UserWarning: The value argument must be within the support of the distribution\n",
      "  reconst_loss = -generative_outputs[MODULE_KEYS.PX_KEY].log_prob(x).sum(-1)\n",
      "/home/katwre/miniconda3/envs/fl-course-env/lib/python3.11/site-packages/scvi/module/_vae.py:573: UserWarning: The value argument must be within the support of the distribution\n",
      "  reconst_loss = -generative_outputs[MODULE_KEYS.PX_KEY].log_prob(x).sum(-1)\n"
     ]
    },
    {
     "name": "stdout",
     "output_type": "stream",
     "text": [
      "Epoch 45/50:  88%|████████▊ | 44/50 [01:49<00:15,  2.66s/it, v_num=1, train_loss_step=871, train_loss_epoch=805]"
     ]
    },
    {
     "name": "stderr",
     "output_type": "stream",
     "text": [
      "/home/katwre/miniconda3/envs/fl-course-env/lib/python3.11/site-packages/scvi/module/_vae.py:573: UserWarning: The value argument must be within the support of the distribution\n",
      "  reconst_loss = -generative_outputs[MODULE_KEYS.PX_KEY].log_prob(x).sum(-1)\n",
      "/home/katwre/miniconda3/envs/fl-course-env/lib/python3.11/site-packages/scvi/module/_vae.py:573: UserWarning: The value argument must be within the support of the distribution\n",
      "  reconst_loss = -generative_outputs[MODULE_KEYS.PX_KEY].log_prob(x).sum(-1)\n"
     ]
    },
    {
     "name": "stdout",
     "output_type": "stream",
     "text": [
      "Epoch 46/50:  90%|█████████ | 45/50 [01:52<00:13,  2.70s/it, v_num=1, train_loss_step=764, train_loss_epoch=805]"
     ]
    },
    {
     "name": "stderr",
     "output_type": "stream",
     "text": [
      "/home/katwre/miniconda3/envs/fl-course-env/lib/python3.11/site-packages/scvi/module/_vae.py:573: UserWarning: The value argument must be within the support of the distribution\n",
      "  reconst_loss = -generative_outputs[MODULE_KEYS.PX_KEY].log_prob(x).sum(-1)\n",
      "/home/katwre/miniconda3/envs/fl-course-env/lib/python3.11/site-packages/scvi/module/_vae.py:573: UserWarning: The value argument must be within the support of the distribution\n",
      "  reconst_loss = -generative_outputs[MODULE_KEYS.PX_KEY].log_prob(x).sum(-1)\n"
     ]
    },
    {
     "name": "stdout",
     "output_type": "stream",
     "text": [
      "Epoch 47/50:  92%|█████████▏| 46/50 [01:54<00:10,  2.57s/it, v_num=1, train_loss_step=941, train_loss_epoch=804]"
     ]
    },
    {
     "name": "stderr",
     "output_type": "stream",
     "text": [
      "/home/katwre/miniconda3/envs/fl-course-env/lib/python3.11/site-packages/scvi/module/_vae.py:573: UserWarning: The value argument must be within the support of the distribution\n",
      "  reconst_loss = -generative_outputs[MODULE_KEYS.PX_KEY].log_prob(x).sum(-1)\n",
      "/home/katwre/miniconda3/envs/fl-course-env/lib/python3.11/site-packages/scvi/module/_vae.py:573: UserWarning: The value argument must be within the support of the distribution\n",
      "  reconst_loss = -generative_outputs[MODULE_KEYS.PX_KEY].log_prob(x).sum(-1)\n"
     ]
    },
    {
     "name": "stdout",
     "output_type": "stream",
     "text": [
      "Epoch 48/50:  94%|█████████▍| 47/50 [01:57<00:07,  2.52s/it, v_num=1, train_loss_step=732, train_loss_epoch=804]"
     ]
    },
    {
     "name": "stderr",
     "output_type": "stream",
     "text": [
      "/home/katwre/miniconda3/envs/fl-course-env/lib/python3.11/site-packages/scvi/module/_vae.py:573: UserWarning: The value argument must be within the support of the distribution\n",
      "  reconst_loss = -generative_outputs[MODULE_KEYS.PX_KEY].log_prob(x).sum(-1)\n",
      "/home/katwre/miniconda3/envs/fl-course-env/lib/python3.11/site-packages/scvi/module/_vae.py:573: UserWarning: The value argument must be within the support of the distribution\n",
      "  reconst_loss = -generative_outputs[MODULE_KEYS.PX_KEY].log_prob(x).sum(-1)\n"
     ]
    },
    {
     "name": "stdout",
     "output_type": "stream",
     "text": [
      "Epoch 49/50:  96%|█████████▌| 48/50 [01:59<00:04,  2.46s/it, v_num=1, train_loss_step=840, train_loss_epoch=803]"
     ]
    },
    {
     "name": "stderr",
     "output_type": "stream",
     "text": [
      "/home/katwre/miniconda3/envs/fl-course-env/lib/python3.11/site-packages/scvi/module/_vae.py:573: UserWarning: The value argument must be within the support of the distribution\n",
      "  reconst_loss = -generative_outputs[MODULE_KEYS.PX_KEY].log_prob(x).sum(-1)\n",
      "/home/katwre/miniconda3/envs/fl-course-env/lib/python3.11/site-packages/scvi/module/_vae.py:573: UserWarning: The value argument must be within the support of the distribution\n",
      "  reconst_loss = -generative_outputs[MODULE_KEYS.PX_KEY].log_prob(x).sum(-1)\n"
     ]
    },
    {
     "name": "stdout",
     "output_type": "stream",
     "text": [
      "Epoch 50/50:  98%|█████████▊| 49/50 [02:01<00:02,  2.41s/it, v_num=1, train_loss_step=883, train_loss_epoch=802]"
     ]
    },
    {
     "name": "stderr",
     "output_type": "stream",
     "text": [
      "/home/katwre/miniconda3/envs/fl-course-env/lib/python3.11/site-packages/scvi/module/_vae.py:573: UserWarning: The value argument must be within the support of the distribution\n",
      "  reconst_loss = -generative_outputs[MODULE_KEYS.PX_KEY].log_prob(x).sum(-1)\n",
      "/home/katwre/miniconda3/envs/fl-course-env/lib/python3.11/site-packages/scvi/module/_vae.py:573: UserWarning: The value argument must be within the support of the distribution\n",
      "  reconst_loss = -generative_outputs[MODULE_KEYS.PX_KEY].log_prob(x).sum(-1)\n"
     ]
    },
    {
     "name": "stdout",
     "output_type": "stream",
     "text": [
      "Epoch 50/50: 100%|██████████| 50/50 [02:04<00:00,  2.43s/it, v_num=1, train_loss_step=788, train_loss_epoch=802]"
     ]
    },
    {
     "name": "stderr",
     "output_type": "stream",
     "text": [
      "`Trainer.fit` stopped: `max_epochs=50` reached.\n"
     ]
    },
    {
     "name": "stdout",
     "output_type": "stream",
     "text": [
      "Epoch 50/50: 100%|██████████| 50/50 [02:04<00:00,  2.49s/it, v_num=1, train_loss_step=788, train_loss_epoch=802]\n"
     ]
    }
   ],
   "source": [
    "scvi.model.SCVI.setup_anndata(pancreas_train, batch_key=\"tech\", layer=\"counts\")\n",
    "\n",
    "scvi_ref = scvi.model.SCVI(\n",
    "    pancreas_train,\n",
    "    use_layer_norm=\"both\",\n",
    "    use_batch_norm=\"none\",\n",
    "    encode_covariates=True,\n",
    "    dropout_rate=0.2,\n",
    "    n_layers=2,\n",
    ")\n",
    "scvi_ref.train(max_epochs=50)"
   ]
  },
  {
   "cell_type": "code",
   "execution_count": 8,
   "id": "bad7e321",
   "metadata": {},
   "outputs": [],
   "source": [
    "scvi_ref.save(\"model_centralized\", overwrite=True)"
   ]
  }
 ],
 "metadata": {
  "kernelspec": {
   "display_name": "fl-course-env",
   "language": "python",
   "name": "python3"
  },
  "language_info": {
   "codemirror_mode": {
    "name": "ipython",
    "version": 3
   },
   "file_extension": ".py",
   "mimetype": "text/x-python",
   "name": "python",
   "nbconvert_exporter": "python",
   "pygments_lexer": "ipython3",
   "version": "3.11.13"
  }
 },
 "nbformat": 4,
 "nbformat_minor": 5
}
