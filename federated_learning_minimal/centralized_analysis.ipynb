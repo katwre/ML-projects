{
 "cells": [
  {
   "cell_type": "code",
   "execution_count": 2,
   "id": "e72faf8d",
   "metadata": {},
   "outputs": [],
   "source": [
    "import pandas as pd\n",
    "import numpy as np\n",
    "import anndata\n",
    "import json\n",
    "import os\n",
    "import scanpy as sc\n",
    "from sklearn.model_selection import train_test_split"
   ]
  },
  {
   "cell_type": "markdown",
   "id": "9e771352",
   "metadata": {},
   "source": [
    "## Data download"
   ]
  },
  {
   "cell_type": "code",
   "execution_count": 3,
   "id": "e863b2c8",
   "metadata": {},
   "outputs": [
    {
     "name": "stderr",
     "output_type": "stream",
     "text": [
      "/home/katwre/miniconda3/envs/fl-course-env/lib/python3.11/site-packages/tqdm/auto.py:21: TqdmWarning: IProgress not found. Please update jupyter and ipywidgets. See https://ipywidgets.readthedocs.io/en/stable/user_install.html\n",
      "  from .autonotebook import tqdm as notebook_tqdm\n",
      "100%|██████████| 301M/301M [00:22<00:00, 13.7MB/s] \n"
     ]
    },
    {
     "name": "stdout",
     "output_type": "stream",
     "text": [
      "Train: 9362 cells | Valid: 2341 cells | Test: 4679 cells\n",
      "\n",
      "Cells per technology:\n",
      "\n",
      "Train split:\n",
      "  celseq: 803\n",
      "  fluidigmc1: 510\n",
      "  inDrop1: 1550\n",
      "  inDrop2: 1379\n",
      "  inDrop3: 2884\n",
      "  inDrop4: 1042\n",
      "  smarter: 1194\n",
      "\n",
      "Valid split:\n",
      "  celseq: 201\n",
      "  fluidigmc1: 128\n",
      "  inDrop1: 387\n",
      "  inDrop2: 345\n",
      "  inDrop3: 721\n",
      "  inDrop4: 261\n",
      "  smarter: 298\n",
      "\n",
      "Test split:\n",
      "  celseq2: 2285\n",
      "  smartseq2: 2394\n",
      "Deleted 'data_input/pancreas_full.h5ad'\n",
      "Saved 19093 genes to data_input/all_genes_list.json\n"
     ]
    }
   ],
   "source": [
    "\n",
    "# Define data paths\n",
    "data_dir = \"data_input\"\n",
    "os.makedirs(data_dir, exist_ok=True)\n",
    "\n",
    "pancreas_adata_path = os.path.join(data_dir, \"pancreas_full.h5ad\")\n",
    "train_path = os.path.join(data_dir, \"pancreas_train.h5ad\")\n",
    "valid_path = os.path.join(data_dir, \"pancreas_valid.h5ad\")\n",
    "test_path  = os.path.join(data_dir, \"pancreas_test.h5ad\")\n",
    "\n",
    "# Download if missing, otherwise load from local file\n",
    "pancreas_adata = sc.read(\n",
    "    pancreas_adata_path,\n",
    "    backup_url=\"https://figshare.com/ndownloader/files/24539828\",\n",
    ")\n",
    "\n",
    "# Split dataset by technology: keep smartseq2/celseq2 as held-out test\n",
    "query_mask = pancreas_adata.obs[\"tech\"].isin([\"smartseq2\", \"celseq2\"]).to_numpy()\n",
    "pancreas_no_test = pancreas_adata[~query_mask].copy()\n",
    "pancreas_test    = pancreas_adata[ query_mask].copy()\n",
    "\n",
    "# 80/20 train/valid split on the remaining data, stratified by technology\n",
    "y = pancreas_no_test.obs[\"tech\"].astype(\"category\")\n",
    "indices = np.arange(pancreas_no_test.n_obs)\n",
    "\n",
    "idx_train, idx_valid = train_test_split(\n",
    "    indices,\n",
    "    test_size=0.20,\n",
    "    train_size=0.80,\n",
    "    random_state=42,\n",
    "    shuffle=True,\n",
    "    stratify=y  # stratify by technology\n",
    ")\n",
    "\n",
    "pancreas_train = pancreas_no_test[idx_train].copy()\n",
    "pancreas_valid = pancreas_no_test[idx_valid].copy()\n",
    "\n",
    "# Save splits\n",
    "pancreas_train.write(train_path)\n",
    "pancreas_valid.write(valid_path)\n",
    "pancreas_test.write(test_path)\n",
    "\n",
    "print(\n",
    "    f\"Train: {pancreas_train.n_obs} cells | \"\n",
    "    f\"Valid: {pancreas_valid.n_obs} cells | \"\n",
    "    f\"Test: {pancreas_test.n_obs} cells\"\n",
    ")\n",
    "\n",
    "# Print counts per technology\n",
    "print(\"\\nCells per technology:\")\n",
    "for name, ad in [(\"Train\", pancreas_train),\n",
    "                 (\"Valid\", pancreas_valid),\n",
    "                 (\"Test\", pancreas_test)]:\n",
    "    counts = ad.obs[\"tech\"].value_counts().sort_index()\n",
    "    print(f\"\\n{name} split:\")\n",
    "    for tech, n in counts.items():\n",
    "        print(f\"  {tech}: {n}\")\n",
    "\n",
    "# --- Cleanup: delete the original full dataset file ---\n",
    "del pancreas_adata  # drop reference to ensure no open handle\n",
    "try:\n",
    "    if os.path.exists(pancreas_adata_path):\n",
    "        os.remove(pancreas_adata_path)\n",
    "        print(f\"Deleted '{pancreas_adata_path}'\")\n",
    "except Exception as e:\n",
    "    print(f\"[WARN] Could not delete '{pancreas_adata_path}': {e}\")\n",
    "\n",
    "\n",
    "# --- Save full gene list to JSON ---\n",
    "all_genes = pancreas_train.var_names.tolist()\n",
    "\n",
    "genes_json_path = os.path.join(\"data_input\", \"all_genes_list.json\")\n",
    "os.makedirs(\"data_input\", exist_ok=True)\n",
    "\n",
    "with open(genes_json_path, \"w\") as f:\n",
    "    json.dump(all_genes, f, indent=2)\n",
    "\n",
    "print(f\"Saved {len(all_genes)} genes to {genes_json_path}\")"
   ]
  },
  {
   "cell_type": "markdown",
   "id": "cca50262",
   "metadata": {},
   "source": [
    "## Data inspection"
   ]
  },
  {
   "cell_type": "code",
   "execution_count": 4,
   "id": "72b39127",
   "metadata": {},
   "outputs": [],
   "source": [
    "# Read the data\n",
    "adata = anndata.read_h5ad(\"./data_input/pancreas_train.h5ad\")"
   ]
  },
  {
   "cell_type": "code",
   "execution_count": 5,
   "id": "927ed200",
   "metadata": {},
   "outputs": [
    {
     "name": "stdout",
     "output_type": "stream",
     "text": [
      "AnnData object summary:\n",
      "AnnData object with n_obs × n_vars = 9362 × 19093\n",
      "    obs: 'tech', 'celltype', 'size_factors'\n",
      "    layers: 'counts'\n",
      "\n",
      "First 5 rows of adata.obs:\n",
      "                                   tech celltype  size_factors\n",
      "3rd-C86_S85                  fluidigmc1    delta      5.060723\n",
      "human3_lib4.final_cell_0804     inDrop3    alpha      0.010361\n",
      "human3_lib4.final_cell_0815     inDrop3     beta      0.011553\n",
      "Sample_163                      smarter     beta      1.000000\n",
      "human3_lib1.final_cell_0737     inDrop3    alpha      0.014493\n",
      "\n",
      "Available layers in adata:\n",
      "KeysView(Layers with keys: counts)\n",
      "\n",
      "First 5x5 of counts layer:\n",
      "                             A1BG  A1CF  A2M  A2ML1  A4GALT\n",
      "3rd-C86_S85                  14.7  11.0  0.0    3.0     0.0\n",
      "human3_lib4.final_cell_0804   0.0   0.0  0.0    0.0     0.0\n",
      "human3_lib4.final_cell_0815   0.0   0.0  0.0    0.0     0.0\n",
      "Sample_163                    0.0   0.0  0.0    0.0     0.0\n",
      "human3_lib1.final_cell_0737   0.0   1.0  0.0    0.0     0.0\n"
     ]
    }
   ],
   "source": [
    "# Display the AnnData object summary\n",
    "print(\"AnnData object summary:\")\n",
    "print(adata)\n",
    "\n",
    "# Display the first few rows of the observation metadata\n",
    "print(\"\\nFirst 5 rows of adata.obs:\")\n",
    "print(adata.obs.head())\n",
    "\n",
    "# Display available layers\n",
    "print(\"\\nAvailable layers in adata:\")\n",
    "print(adata.layers.keys())\n",
    "\n",
    "# Display the first 5x5 block of the counts layer (if it exists)\n",
    "print(\"\\nFirst 5x5 of counts layer:\")\n",
    "print(pd.DataFrame(adata.layers[\"counts\"][:5, :5], \n",
    "                    columns=adata.var_names[:5], \n",
    "                    index=adata.obs_names[:5]))"
   ]
  },
  {
   "cell_type": "code",
   "execution_count": 24,
   "id": "ad85dc14",
   "metadata": {},
   "outputs": [
    {
     "name": "stdout",
     "output_type": "stream",
     "text": [
      "adata.obs[tech]\n",
      "3rd-C86_S85                    fluidigmc1\n",
      "human3_lib4.final_cell_0804       inDrop3\n",
      "human3_lib4.final_cell_0815       inDrop3\n",
      "Sample_163                        smarter\n",
      "human3_lib1.final_cell_0737       inDrop3\n",
      "Name: tech, dtype: category\n",
      "Categories (7, object): ['celseq', 'fluidigmc1', 'inDrop1', 'inDrop2', 'inDrop3', 'inDrop4', 'smarter']\n",
      "Unique technologies: ['fluidigmc1', 'inDrop3', 'smarter', 'inDrop1', 'celseq', 'inDrop4', 'inDrop2']\n",
      "Categories (7, object): ['celseq', 'fluidigmc1', 'inDrop1', 'inDrop2', 'inDrop3', 'inDrop4', 'smarter']\n",
      "---------------\n",
      "Number of unique technologies: 7\n"
     ]
    }
   ],
   "source": [
    "# 1. How many unique technologies are present, and what are their names?\n",
    "print(\"adata.obs[tech]\")\n",
    "print(adata.obs[\"tech\"].head())\n",
    "unique_techs = adata.obs[\"tech\"].unique()\n",
    "print(\"Unique technologies:\", unique_techs)\n",
    "\n",
    "num_tech = adata.obs[\"tech\"].nunique()\n",
    "print(\"---------------\")\n",
    "print(f\"Number of unique technologies: {num_tech}\")"
   ]
  },
  {
   "cell_type": "code",
   "execution_count": null,
   "id": "04e3ae32",
   "metadata": {},
   "outputs": [
    {
     "name": "stdout",
     "output_type": "stream",
     "text": [
      "tech\n",
      "inDrop3       2884\n",
      "inDrop1       1550\n",
      "inDrop2       1379\n",
      "smarter       1194\n",
      "inDrop4       1042\n",
      "celseq         803\n",
      "fluidigmc1     510\n",
      "Name: count, dtype: int64\n"
     ]
    }
   ],
   "source": [
    "# 2. How many samples (cells) belong to each technology?\n",
    "tech_counts = adata.obs[\"tech\"].value_counts()\n",
    "print(tech_counts)"
   ]
  },
  {
   "cell_type": "code",
   "execution_count": null,
   "id": "eaa66ffa",
   "metadata": {},
   "outputs": [
    {
     "name": "stdout",
     "output_type": "stream",
     "text": [
      "Number of total number of genes: 19093\n"
     ]
    }
   ],
   "source": [
    "# 3. What is the total number of genes measured in the dataset?\n",
    "nbr_genes = adata.layers[\"counts\"].shape[1]\n",
    "print(f\"Number of total number of genes: {nbr_genes}\")"
   ]
  },
  {
   "cell_type": "code",
   "execution_count": null,
   "id": "a3844a0a",
   "metadata": {},
   "outputs": [
    {
     "name": "stdout",
     "output_type": "stream",
     "text": [
      "Number of total number of genes: 9362\n"
     ]
    }
   ],
   "source": [
    "# 4. What is the total number of samples (cells) in the dataset?\n",
    "nbr_samples = adata.layers[\"counts\"].shape[0]\n",
    "print(f\"Number of total number of samples: {nbr_samples}\")"
   ]
  },
  {
   "cell_type": "markdown",
   "id": "3b2fc154",
   "metadata": {},
   "source": [
    "## Variance analysis"
   ]
  },
  {
   "cell_type": "code",
   "execution_count": null,
   "id": "333b7eda",
   "metadata": {},
   "outputs": [
    {
     "name": "stdout",
     "output_type": "stream",
     "text": [
      "                             A1BG  A1CF  A2M  A2ML1  A4GALT  A4GNT  AA06  \\\n",
      "3rd-C86_S85                  14.7  11.0  0.0    3.0     0.0    0.0   0.0   \n",
      "human3_lib4.final_cell_0804   0.0   0.0  0.0    0.0     0.0    0.0   0.0   \n",
      "human3_lib4.final_cell_0815   0.0   0.0  0.0    0.0     0.0    0.0   0.0   \n",
      "Sample_163                    0.0   0.0  0.0    0.0     0.0    0.0   0.0   \n",
      "human3_lib1.final_cell_0737   0.0   1.0  0.0    0.0     0.0    0.0   0.0   \n",
      "\n",
      "                                   AAAS       AACS  AACSP1  ...  ZWILCH  \\\n",
      "3rd-C86_S85                    2.000000  32.650002     0.0  ...     1.0   \n",
      "human3_lib4.final_cell_0804    0.000000   0.000000     0.0  ...     0.0   \n",
      "human3_lib4.final_cell_0815    0.000000   0.000000     0.0  ...     0.0   \n",
      "Sample_163                   125.726196   0.000000     0.0  ...     0.0   \n",
      "human3_lib1.final_cell_0737    1.000000   0.000000     0.0  ...     0.0   \n",
      "\n",
      "                             ZWINT  ZXDA    ZXDB    ZXDC      ZYG11B  ZYX  \\\n",
      "3rd-C86_S85                    7.0   0.0  0.0000  0.0000  174.850006  0.0   \n",
      "human3_lib4.final_cell_0804    0.0   0.0  0.0000  0.0000    0.000000  0.0   \n",
      "human3_lib4.final_cell_0815    0.0   0.0  0.0000  0.0000    0.000000  0.0   \n",
      "Sample_163                     0.0   0.0  0.8899  0.0636    0.000000  0.0   \n",
      "human3_lib1.final_cell_0737    0.0   0.0  0.0000  0.0000    0.000000  0.0   \n",
      "\n",
      "                                 ZZEF1        ZZZ3        tech  \n",
      "3rd-C86_S85                  43.240002    0.000000  fluidigmc1  \n",
      "human3_lib4.final_cell_0804   0.000000    0.000000     inDrop3  \n",
      "human3_lib4.final_cell_0815   0.000000    0.000000     inDrop3  \n",
      "Sample_163                    0.167300  187.723999     smarter  \n",
      "human3_lib1.final_cell_0737   0.000000    0.000000     inDrop3  \n",
      "\n",
      "[5 rows x 19094 columns]\n"
     ]
    },
    {
     "name": "stderr",
     "output_type": "stream",
     "text": [
      "/tmp/ipykernel_12173/4238195465.py:15: FutureWarning: The default of observed=False is deprecated and will be changed to True in a future version of pandas. Pass observed=False to retain current behavior or observed=True to adopt the future default and silence this warning.\n",
      "  gene_variances_by_tech = counts_df.groupby(\"tech\").var()\n"
     ]
    },
    {
     "name": "stdout",
     "output_type": "stream",
     "text": [
      "                  A1BG          A1CF           A2M      A2ML1     A4GALT  \\\n",
      "tech                                                                       \n",
      "celseq        0.711420      0.803843      0.077942   0.314592   0.057393   \n",
      "fluidigmc1  836.826904  48139.230469  80871.554688  27.673862  92.704498   \n",
      "inDrop1       0.014628      0.337339      0.217571   0.000000   0.070607   \n",
      "inDrop2       0.004335      0.480227      0.281990   0.000000   0.097883   \n",
      "inDrop3       0.002079      0.226632      0.042091   0.000000   0.153713   \n",
      "inDrop4       0.003828      0.545368      0.163191   0.000000   0.150532   \n",
      "smarter      99.531158    418.537323      0.415753   0.081800   0.111717   \n",
      "\n",
      "               A4GNT  AA06          AAAS           AACS    AACSP1  ...  \\\n",
      "tech                                                               ...   \n",
      "celseq      0.005021   0.0      0.157013       0.792771  0.008743  ...   \n",
      "fluidigmc1  0.001961   0.0  37999.804688  110174.632812  0.000000  ...   \n",
      "inDrop1     0.000000   0.0      0.333466       0.311883  0.000000  ...   \n",
      "inDrop2     0.000000   0.0      0.279834       0.593632  0.000725  ...   \n",
      "inDrop3     0.000000   0.0      0.219021       0.137527  0.000000  ...   \n",
      "inDrop4     0.000000   0.0      0.324810       0.368372  0.000960  ...   \n",
      "smarter     0.986342   0.0   1718.508545    2289.903076  0.014086  ...   \n",
      "\n",
      "                   ZW10       ZWILCH        ZWINT         ZXDA          ZXDB  \\\n",
      "tech                                                                           \n",
      "celseq         0.131375     0.093290     0.263833     0.055989      0.156380   \n",
      "fluidigmc1  6342.506836  2481.470459  5261.087891  4621.794922  10405.752930   \n",
      "inDrop1        0.053705     0.069899     0.005790     0.009613      0.082413   \n",
      "inDrop2        0.031683     0.018565     0.005067     0.006489      0.046001   \n",
      "inDrop3        0.046453     0.029571     0.005870     0.004150      0.042082   \n",
      "inDrop4        0.063924     0.046184     0.001918     0.016064      0.109576   \n",
      "smarter      216.354797   358.375885   271.487305    42.345230    444.917847   \n",
      "\n",
      "                   ZXDC        ZYG11B           ZYX         ZZEF1        ZZZ3  \n",
      "tech                                                                           \n",
      "celseq        23.085640     20.987329      4.368494      0.401866    0.196669  \n",
      "fluidigmc1  9516.546875  33480.320312  18377.990234  19147.455078    0.000000  \n",
      "inDrop1        0.099544      0.294635      0.830508      0.298610    0.354693  \n",
      "inDrop2        0.078705      0.288813      2.023537      0.284115    0.165817  \n",
      "inDrop3        0.081310      0.231093      1.850678      0.160256    0.083890  \n",
      "inDrop4        0.105207      0.484737      1.734609      0.504218    0.284560  \n",
      "smarter       92.574997    232.968719    130.769058     37.691765  847.065247  \n",
      "\n",
      "[7 rows x 19093 columns]\n"
     ]
    }
   ],
   "source": [
    "# 5. For each technology, calculate the variance of each gene across all cells.\n",
    "\n",
    "# Extract counts matrix and create a DataFrame\n",
    "counts_df = pd.DataFrame(\n",
    "    adata.layers[\"counts\"],\n",
    "    index=adata.obs_names,\n",
    "    columns=adata.var_names\n",
    ")\n",
    "\n",
    "# Add the 'tech' column from adata.obs\n",
    "counts_df[\"tech\"] = adata.obs[\"tech\"].values\n",
    "\n",
    "# Group by tech and calculate variance for each gene\n",
    "gene_variances_by_tech = counts_df.groupby(\"tech\").var()\n",
    "print(gene_variances_by_tech)\n"
   ]
  },
  {
   "cell_type": "code",
   "execution_count": null,
   "id": "3033069e",
   "metadata": {},
   "outputs": [
    {
     "name": "stdout",
     "output_type": "stream",
     "text": [
      "Count cells per technology:\n",
      "tech\n",
      "inDrop3       2884\n",
      "inDrop1       1550\n",
      "inDrop2       1379\n",
      "smarter       1194\n",
      "inDrop4       1042\n",
      "celseq         803\n",
      "fluidigmc1     510\n",
      "Name: count, dtype: int64\n"
     ]
    }
   ],
   "source": [
    "# 6. Compute a weighted average of these variances for each gene, using the number of cells per technology as weights.\n",
    "\n",
    "# Count cells per technology\n",
    "cell_counts = adata.obs[\"tech\"].value_counts()\n",
    "print(\"Count cells per technology:\")\n",
    "print(cell_counts)"
   ]
  },
  {
   "cell_type": "code",
   "execution_count": 38,
   "id": "fc8f4012",
   "metadata": {},
   "outputs": [
    {
     "name": "stdout",
     "output_type": "stream",
     "text": [
      "Print top variable genes:\n",
      "GCG   5211096399.928920\n",
      "INS    203439060.944606\n",
      "TTR    160181022.505291\n",
      "SST    139494309.512972\n",
      "PPY    116951271.415973\n",
      "dtype: float64\n",
      "\n",
      "Show first 5 genes\n",
      "['GCG', 'INS', 'TTR', 'SST', 'PPY']\n",
      "\n",
      "Number of genes selected: 2000\n"
     ]
    }
   ],
   "source": [
    "# 7. Save a list containing the top 2000 genes\n",
    "pd.set_option(\"display.float_format\", \"{:.6f}\".format)\n",
    "\n",
    "# Sort genes by weighted variance in descending order and take the top 2000\n",
    "\n",
    "# Align weights with variance table\n",
    "weights = cell_counts.loc[gene_variances_by_tech.index]\n",
    "\n",
    "# Multiply variances by weights\n",
    "weighted_variances = gene_variances_by_tech.mul(weights, axis=0)\n",
    "\n",
    "# Weighted average variance per gene\n",
    "weighted_avg_variance = weighted_variances.sum(axis=0) / weights.sum()\n",
    "\n",
    "top_2000_genes = weighted_avg_variance.sort_values(ascending=False).head(2000)\n",
    "print(\"Print top variable genes:\")\n",
    "print(top_2000_genes.head())\n",
    "\n",
    "\n",
    "# Get just the gene names as a list\n",
    "top2000_genes = top_2000_genes.index.tolist()\n",
    "\n",
    "print(\"\\nShow first 5 genes\")\n",
    "print(top2000_genes[:5])  # Show first 5 genes\n",
    "print(f\"\\nNumber of genes selected: {len(top2000_genes)}\")\n",
    "\n",
    "\n",
    "# Save to a JSON file\n",
    "os.makedirs(\"./data_output\", exist_ok=True)\n",
    "with open(\"./data_output/top2000_genes_centralized.json\", \"w\") as f:\n",
    "    json.dump(top2000_genes, f, indent=2)"
   ]
  }
 ],
 "metadata": {
  "kernelspec": {
   "display_name": "fl-course-env",
   "language": "python",
   "name": "python3"
  },
  "language_info": {
   "codemirror_mode": {
    "name": "ipython",
    "version": 3
   },
   "file_extension": ".py",
   "mimetype": "text/x-python",
   "name": "python",
   "nbconvert_exporter": "python",
   "pygments_lexer": "ipython3",
   "version": "3.11.13"
  }
 },
 "nbformat": 4,
 "nbformat_minor": 5
}
